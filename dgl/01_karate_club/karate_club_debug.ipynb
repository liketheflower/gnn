{
 "cells": [
  {
   "cell_type": "code",
   "execution_count": 5,
   "metadata": {},
   "outputs": [],
   "source": [
    "import dgl\n",
    "import torch\n",
    "import numpy as np\n",
    "import pickle\n",
    "\n",
    "import matplotlib.pyplot as plt\n",
    "import networkx as nx"
   ]
  },
  {
   "cell_type": "code",
   "execution_count": 121,
   "metadata": {},
   "outputs": [],
   "source": [
    "debug = True\n",
    "# in the learning mode, less nodes are used to better understand the model\n",
    "if debug:\n",
    "    node_count = 5\n",
    "else:# the original data has 34 nodes\n",
    "    node_count = 34 \n"
   ]
  },
  {
   "cell_type": "code",
   "execution_count": 6,
   "metadata": {},
   "outputs": [],
   "source": [
    "# Load from pickle file\n",
    "\n",
    "with open('edge_list.pickle', 'rb') as f:\n",
    "    edge_list = pickle.load(f)\n",
    "    "
   ]
  },
  {
   "cell_type": "code",
   "execution_count": 8,
   "metadata": {},
   "outputs": [
    {
     "name": "stdout",
     "output_type": "stream",
     "text": [
      "[('0', '8'), ('1', '17'), ('24', '31'), ('13', '33'), ('0', '1'), ('2', '8'), ('0', '19'), ('25', '31'), ('14', '33'), ('0', '2'), ('2', '9'), ('1', '19'), ('28', '31'), ('15', '33'), ('1', '2'), ('0', '10'), ('0', '21'), ('2', '32'), ('18', '33'), ('0', '3'), ('4', '10'), ('1', '21'), ('8', '32'), ('19', '33'), ('1', '3'), ('5', '10'), ('23', '25'), ('14', '32'), ('20', '33'), ('2', '3'), ('0', '11'), ('24', '25'), ('15', '32'), ('22', '33'), ('0', '4'), ('0', '12'), ('2', '27'), ('18', '32'), ('23', '33'), ('0', '5'), ('3', '12'), ('23', '27'), ('20', '32'), ('26', '33'), ('0', '6'), ('0', '13'), ('24', '27'), ('22', '32'), ('27', '33'), ('4', '6'), ('1', '13'), ('2', '28'), ('23', '32'), ('28', '33'), ('5', '6'), ('2', '13'), ('23', '29'), ('29', '32'), ('29', '33'), ('0', '7'), ('3', '13'), ('26', '29'), ('30', '32'), ('30', '33'), ('1', '7'), ('5', '16'), ('1', '30'), ('31', '32'), ('31', '33'), ('2', '7'), ('6', '16'), ('8', '30'), ('8', '33'), ('32', '33'), ('3', '7'), ('0', '17'), ('0', '31'), ('9', '33')]\n",
      "<class 'list'>\n"
     ]
    }
   ],
   "source": [
    "print(edge_list)\n",
    "print(type(edge_list))"
   ]
  },
  {
   "cell_type": "code",
   "execution_count": 122,
   "metadata": {},
   "outputs": [],
   "source": [
    "def build_karate_club_graph(edges):\n",
    "    g = dgl.DGLGraph()\n",
    "    g.add_nodes(node_count)\n",
    "    edges = [(a,b) for a,b in edges if int(a)<node_count and int(b)<node_count]\n",
    "    src, dst = tuple(zip(*edges))\n",
    "    print(src[:10])\n",
    "    g.add_edges(src, dst)\n",
    "    # edges are directional in DGL; make them bidirectional\n",
    "    g.add_edges(dst, src)\n",
    "    return g"
   ]
  },
  {
   "cell_type": "code",
   "execution_count": 123,
   "metadata": {},
   "outputs": [
    {
     "name": "stdout",
     "output_type": "stream",
     "text": [
      "('0', '0', '1', '0', '1', '2', '0')\n",
      "DGLGraph(num_nodes=5, num_edges=14,\n",
      "         ndata_schemes={}\n",
      "         edata_schemes={})\n"
     ]
    }
   ],
   "source": [
    "G = build_karate_club_graph(edge_list)\n",
    "print(G)"
   ]
  },
  {
   "cell_type": "code",
   "execution_count": 124,
   "metadata": {},
   "outputs": [
    {
     "name": "stdout",
     "output_type": "stream",
     "text": [
      "We have 5 nodes.\n",
      "We have 14 edges.\n"
     ]
    }
   ],
   "source": [
    "#print('We have %d nodes.' % G.number_of_nodes())\n",
    "#print('We have %d edges.' % G.number_of_edges())\n",
    "print(f\"We have {G.number_of_nodes()} nodes.\")\n",
    "print(f\"We have {G.number_of_edges()} edges.\")"
   ]
  },
  {
   "cell_type": "code",
   "execution_count": 129,
   "metadata": {},
   "outputs": [
    {
     "data": {
      "image/png": "[encoded data removed]",
      "text/plain": [
       "<Figure size 432x288 with 1 Axes>"
      ]
     },
     "metadata": {},
     "output_type": "display_data"
    }
   ],
   "source": [
    "# Since the actual graph is undirected, we convert it for visualization purpose.\n",
    "#nx_G = G.to_networkx().to_undirected()\n",
    "nx_G = G.to_networkx()\n",
    "# Kamada-Kawaii layout usually looks pretty for arbitrary graphs\n",
    "pos = nx.kamada_kawai_layout(nx_G)\n",
    "nx.draw(nx_G, pos, with_labels=True, node_color=[[.7, .7, .7]])"
   ]
  },
  {
   "cell_type": "code",
   "execution_count": 140,
   "metadata": {},
   "outputs": [],
   "source": [
    "import torch.nn as nn\n",
    "import torch.nn.functional as F\n",
    "\n",
    "# Define the message and reduce function\n",
    "# NOTE: We ignore the GCN's normalization constant c_ij for this tutorial.\n",
    "def gcn_message(edges):\n",
    "    # The argument is a batch of edges.\n",
    "    # This computes a (batch of) message called 'msg' using the source node's feature 'h'.\n",
    "    return {'msg' : edges.src['h']}\n",
    "\n",
    "def gcn_reduce(nodes):\n",
    "    # The argument is a batch of nodes.\n",
    "    # This computes the new 'h' features by summing received 'msg' in each node's mailbox.\n",
    "    return {'h' : torch.sum(nodes.mailbox['msg'], dim=1)}\n",
    "\n",
    "# Define the GCNLayer module\n",
    "class GCNLayer(nn.Module):\n",
    "    def __init__(self, in_feats, out_feats):\n",
    "        super(GCNLayer, self).__init__()\n",
    "        self.linear = nn.Linear(in_feats, out_feats)\n",
    "\n",
    "    def forward(self, g, inputs):\n",
    "        # g is the graph and the inputs is the input node features\n",
    "        # first set the node features\n",
    "        g.ndata['h'] = inputs\n",
    "        if debug:\n",
    "            print('-'*60)\n",
    "            print(f\"g.ndata original it should be the same as input {g.ndata}\")\n",
    "        # trigger message passing on all edges\n",
    "        g.send(g.edges(), gcn_message)\n",
    "        if debug:print(f\"g.ndata after send {g.ndata}\")\n",
    "        # trigger aggregation at all nodes\n",
    "        g.recv(g.nodes(), gcn_reduce)\n",
    "        if debug:print(f\"g.ndata after receive{g.ndata}\")\n",
    "        # get the result node features\n",
    "        h = g.ndata.pop('h')\n",
    "        if debug:\n",
    "            print('h in the gnn', h.shape)\n",
    "            print(h)\n",
    "        # perform linear transformation\n",
    "        h = self.linear(h)\n",
    "        print('after linear', h.shape)\n",
    "        print(h)\n",
    "        return h"
   ]
  },
  {
   "cell_type": "code",
   "execution_count": 142,
   "metadata": {},
   "outputs": [],
   "source": [
    "class GCN(nn.Module):\n",
    "    def __init__(self, in_feats, hidden_size, num_classes):\n",
    "        super(GCN, self).__init__()\n",
    "        self.gcn1 = GCNLayer(in_feats, hidden_size)\n",
    "        self.gcn2 = GCNLayer(hidden_size, num_classes)\n",
    "        self.softmax = nn.Softmax()\n",
    "\n",
    "    def forward(self, g, inputs):\n",
    "        h = self.gcn1(g, inputs)\n",
    "        #print(\"inputs\", inputs.shape)\n",
    "        #print(inputs)\n",
    "        h = torch.relu(h)\n",
    "        print(\"hidden layer 1\", h.shape)\n",
    "        print(h)\n",
    "        h = self.gcn2(g, h)\n",
    "        #print(\"hiden layer 2 before softmax\",h.shape)\n",
    "        #print(h)\n",
    "        h = self.softmax(h)\n",
    "        return h\n",
    "# The first layer transforms input features of size of 34 to a hidden size of 5.\n",
    "# The second layer transforms the hidden layer and produces output features of\n",
    "# size 2, corresponding to the two groups of the karate club.\n",
    "if debug:net = GCN(node_count, 4, 2)\n",
    "else:net = GCN(node_count, 16, 2)"
   ]
  },
  {
   "cell_type": "code",
   "execution_count": 138,
   "metadata": {},
   "outputs": [],
   "source": [
    "inputs = torch.eye(node_count)\n",
    "labeled_nodes = torch.tensor([0, node_count-1])  # only the instructor and the president nodes are labeled\n",
    "labels = torch.tensor([0,1])  # their labels are different"
   ]
  },
  {
   "cell_type": "code",
   "execution_count": 143,
   "metadata": {},
   "outputs": [
    {
     "name": "stdout",
     "output_type": "stream",
     "text": [
      "------------------------------------------------------------\n",
      "g.ndata original it should be the same as input {'h': tensor([[1., 0., 0., 0., 0.],\n",
      "        [0., 1., 0., 0., 0.],\n",
      "        [0., 0., 1., 0., 0.],\n",
      "        [0., 0., 0., 1., 0.],\n",
      "        [0., 0., 0., 0., 1.]])}\n",
      "g.ndata after send {'h': tensor([[1., 0., 0., 0., 0.],\n",
      "        [0., 1., 0., 0., 0.],\n",
      "        [0., 0., 1., 0., 0.],\n",
      "        [0., 0., 0., 1., 0.],\n",
      "        [0., 0., 0., 0., 1.]])}\n",
      "g.ndata after receive{'h': tensor([[0., 1., 1., 1., 1.],\n",
      "        [1., 0., 1., 1., 0.],\n",
      "        [1., 1., 0., 1., 0.],\n",
      "        [1., 1., 1., 0., 0.],\n",
      "        [1., 0., 0., 0., 0.]])}\n",
      "h in the gnn torch.Size([5, 5])\n",
      "tensor([[0., 1., 1., 1., 1.],\n",
      "        [1., 0., 1., 1., 0.],\n",
      "        [1., 1., 0., 1., 0.],\n",
      "        [1., 1., 1., 0., 0.],\n",
      "        [1., 0., 0., 0., 0.]])\n",
      "after linear torch.Size([5, 4])\n",
      "tensor([[-0.4240, -1.3446,  0.6689, -0.7302],\n",
      "        [ 0.2422, -1.3842,  0.5222, -0.2569],\n",
      "        [ 0.1246, -1.1316,  0.0965,  0.2073],\n",
      "        [ 0.5667, -1.1198,  0.4771, -0.0109],\n",
      "        [ 0.5604, -0.5424,  0.1864,  0.3960]], grad_fn=<AddmmBackward>)\n",
      "hidden layer 1 torch.Size([5, 4])\n",
      "tensor([[0.0000, 0.0000, 0.6689, 0.0000],\n",
      "        [0.2422, 0.0000, 0.5222, 0.0000],\n",
      "        [0.1246, 0.0000, 0.0965, 0.2073],\n",
      "        [0.5667, 0.0000, 0.4771, 0.0000],\n",
      "        [0.5604, 0.0000, 0.1864, 0.3960]], grad_fn=<ReluBackward0>)\n",
      "------------------------------------------------------------\n",
      "g.ndata original it should be the same as input {'h': tensor([[0.0000, 0.0000, 0.6689, 0.0000],\n",
      "        [0.2422, 0.0000, 0.5222, 0.0000],\n",
      "        [0.1246, 0.0000, 0.0965, 0.2073],\n",
      "        [0.5667, 0.0000, 0.4771, 0.0000],\n",
      "        [0.5604, 0.0000, 0.1864, 0.3960]], grad_fn=<ReluBackward0>)}\n",
      "g.ndata after send {'h': tensor([[0.0000, 0.0000, 0.6689, 0.0000],\n",
      "        [0.2422, 0.0000, 0.5222, 0.0000],\n",
      "        [0.1246, 0.0000, 0.0965, 0.2073],\n",
      "        [0.5667, 0.0000, 0.4771, 0.0000],\n",
      "        [0.5604, 0.0000, 0.1864, 0.3960]], grad_fn=<ReluBackward0>)}\n",
      "g.ndata after receive{'h': tensor([[1.4939, 0.0000, 1.2822, 0.6033],\n",
      "        [0.6913, 0.0000, 1.2425, 0.2073],\n",
      "        [0.8089, 0.0000, 1.6681, 0.0000],\n",
      "        [0.3668, 0.0000, 1.2876, 0.2073],\n",
      "        [0.0000, 0.0000, 0.6689, 0.0000]], grad_fn=<IndexCopyBackward>)}\n",
      "h in the gnn torch.Size([5, 4])\n",
      "tensor([[1.4939, 0.0000, 1.2822, 0.6033],\n",
      "        [0.6913, 0.0000, 1.2425, 0.2073],\n",
      "        [0.8089, 0.0000, 1.6681, 0.0000],\n",
      "        [0.3668, 0.0000, 1.2876, 0.2073],\n",
      "        [0.0000, 0.0000, 0.6689, 0.0000]], grad_fn=<IndexCopyBackward>)\n",
      "after linear torch.Size([5, 2])\n",
      "tensor([[-0.2188, -1.1529],\n",
      "        [-0.4137, -1.0166],\n",
      "        [-0.3832, -1.2841],\n",
      "        [-0.5264, -0.9133],\n",
      "        [-0.5486, -0.6688]], grad_fn=<AddmmBackward>)\n",
      "Epoch 0 | Loss: 0.6112024188041687\n"
     ]
    },
    {
     "name": "stderr",
     "output_type": "stream",
     "text": [
      "<ipython-input-142-dbcd42f26448>:18: UserWarning: Implicit dimension choice for softmax has been deprecated. Change the call to include dim=X as an argument.\n",
      "  h = self.softmax(h)\n"
     ]
    }
   ],
   "source": [
    "optimizer = torch.optim.Adam(net.parameters(), lr=0.1)\n",
    "all_preds = []\n",
    "epochs = 1\n",
    "losses = []\n",
    "for epoch in range(epochs):\n",
    "    preds = net(G, inputs)\n",
    "    all_preds.append(preds)\n",
    "    # we only compute loss for labeled nodes\n",
    "    loss = F.cross_entropy(preds[labeled_nodes], labels)\n",
    "\n",
    "    #optimizer.zero_grad() # PyTorch accumulates gradients by default\n",
    "    loss.backward() \n",
    "    optimizer.step()\n",
    "    losses.append(loss.item())\n",
    "    #print('Epoch %d | Loss: %.4f' % (epoch, loss.item()))\n",
    "    print(f\"Epoch {epoch} | Loss: {loss.item()}\")\n",
    "#print(losses)"
   ]
  },
  {
   "cell_type": "code",
   "execution_count": 73,
   "metadata": {},
   "outputs": [
    {
     "data": {
      "image/png": "[encoded data removed]",
      "text/plain": [
       "<Figure size 432x288 with 1 Axes>"
      ]
     },
     "metadata": {
      "needs_background": "light"
     },
     "output_type": "display_data"
    }
   ],
   "source": [
    "plt.plot(range(1, epochs+1), losses, color='r')\n",
    "plt.xlabel('epoch')\n",
    "plt.ylabel('Loss')\n",
    "plt.title('training loss')\n",
    "plt.show()"
   ]
  },
  {
   "cell_type": "code",
   "execution_count": 132,
   "metadata": {},
   "outputs": [
    {
     "name": "stdout",
     "output_type": "stream",
     "text": [
      "[1 1 1 1 0]\n",
      "['r' 'r' 'r' 'r' 'c']\n"
     ]
    }
   ],
   "source": [
    "last_epoch = all_preds[epochs-1].detach().numpy()\n",
    "predicted_class = np.argmax(last_epoch, axis=-1)\n",
    "color = np.where(predicted_class==0, 'c', 'r')\n",
    "\n",
    "print(predicted_class)\n",
    "print(color)"
   ]
  },
  {
   "cell_type": "code",
   "execution_count": 133,
   "metadata": {},
   "outputs": [
    {
     "data": {
      "image/png": "[encoded data removed]",
      "text/plain": [
       "<Figure size 432x288 with 1 Axes>"
      ]
     },
     "metadata": {},
     "output_type": "display_data"
    }
   ],
   "source": [
    "nx.draw_networkx(nx_G, pos, node_color=color, with_labels=True, node_size=300)"
   ]
  },
  {
   "cell_type": "code",
   "execution_count": 19,
   "metadata": {},
   "outputs": [
    {
     "name": "stdout",
     "output_type": "stream",
     "text": [
      "[9.993837e-01 6.162751e-04]\n"
     ]
    }
   ],
   "source": [
    "print(last_epoch[8])"
   ]
  },
  {
   "cell_type": "code",
   "execution_count": null,
   "metadata": {},
   "outputs": [],
   "source": []
  }
 ],
 "metadata": {
  "kernelspec": {
   "display_name": "Python 3",
   "language": "python",
   "name": "python3"
  },
  "language_info": {
   "codemirror_mode": {
    "name": "ipython",
    "version": 3
   },
   "file_extension": ".py",
   "mimetype": "text/x-python",
   "name": "python",
   "nbconvert_exporter": "python",
   "pygments_lexer": "ipython3",
   "version": "3.8.2"
  }
 },
 "nbformat": 4,
 "nbformat_minor": 4
}
